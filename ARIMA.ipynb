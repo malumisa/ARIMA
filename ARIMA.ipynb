{
 "cells": [
  {
   "cell_type": "code",
   "execution_count": 3,
   "id": "6fff33dc",
   "metadata": {},
   "outputs": [],
   "source": [
    "#import dependencies\n",
    "import pandas as pd\n",
    "import numpy as np\n",
    "from sklearn.model_selection import train_test_split\n",
    "from sklearn.linear_model import LinearRegression\n",
    "from sklearn.metrics import mean_squared_error"
   ]
  },
  {
   "cell_type": "code",
   "execution_count": 1,
   "id": "62ceadbf",
   "metadata": {},
   "outputs": [],
   "source": [
    "# Convert 'quarter' column to numerical representation\n",
    "\n",
    "def convert_quarter(quarter):\n",
    "\n",
    "    year, quarter_num = str(quarter).split('q')\n",
    "\n",
    "    return int(year) + (int(quarter_num) - 1) / 4"
   ]
  },
  {
   "cell_type": "code",
   "execution_count": 1,
   "id": "f8f502e8",
   "metadata": {},
   "outputs": [],
   "source": [
    "# Read data from CSV file "
   ]
  },
  {
   "cell_type": "code",
   "execution_count": 2,
   "id": "c520bd9d",
   "metadata": {},
   "outputs": [],
   "source": [
    "# Apply the conversion function to the quarter column\n",
    "\n"
   ]
  },
  {
   "cell_type": "code",
   "execution_count": 3,
   "id": "9839a817",
   "metadata": {},
   "outputs": [],
   "source": [
    "#Extract the feature"
   ]
  },
  {
   "cell_type": "code",
   "execution_count": null,
   "id": "e08bd276",
   "metadata": {},
   "outputs": [],
   "source": []
  }
 ],
 "metadata": {
  "kernelspec": {
   "display_name": "Python 3 (ipykernel)",
   "language": "python",
   "name": "python3"
  },
  "language_info": {
   "codemirror_mode": {
    "name": "ipython",
    "version": 3
   },
   "file_extension": ".py",
   "mimetype": "text/x-python",
   "name": "python",
   "nbconvert_exporter": "python",
   "pygments_lexer": "ipython3",
   "version": "3.9.12"
  }
 },
 "nbformat": 4,
 "nbformat_minor": 5
}
